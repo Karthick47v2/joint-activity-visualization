{
 "cells": [
  {
   "cell_type": "code",
   "execution_count": 1,
   "metadata": {},
   "outputs": [],
   "source": [
    "# import libs\n",
    "import cv2\n",
    "import mediapipe as mp\n",
    "import time\n",
    "\n",
    "from skimage.draw import line"
   ]
  },
  {
   "cell_type": "code",
   "execution_count": 5,
   "metadata": {},
   "outputs": [],
   "source": [
    "mp_pose = mp.solutions.pose             # pose estimation utils\n",
    "\n",
    "hm_ls = [0] * 33\n",
    "prev_coord_ls = [[0,0] for _ in range(33)]"
   ]
  },
  {
   "cell_type": "code",
   "execution_count": 15,
   "metadata": {},
   "outputs": [],
   "source": [
    "def draw_hm_skelton(img, lm, hm_ls, coord_ls, y, x, line_size):\n",
    "    for i in range(33):\n",
    "        hm_ls[i] = min(1, (abs(coord_ls[i][0] - lm[i].x) + abs(coord_ls[i][1] - lm[i].y)) * 10)\n",
    "        coord_ls[i] = [lm[i].x, lm[i].y]\n",
    "\n",
    "    # for item in mp_pose.POSE_CONNECTIONS:\n",
    "    #     img = cv2.line(img, (int(lm[item[0]].x * x), int(lm[item[0]].y * y)),\n",
    "    #                    (int(lm[item[1]].x * x), int(lm[item[1]].y * y)), (255,255,255), line_size)\n",
    "\n",
    "    for item in mp_pose.POSE_CONNECTIONS:\n",
    "        lines = list(zip(*line(int(lm[item[0]].x * x), int(lm[item[0]].y * y), int(lm[item[1]].x * x), int(lm[item[1]].y * y))))\n",
    "\n",
    "        for i in range(0, int(len(lines) * hm_ls[item[0]])-1):\n",
    "            img = cv2.line(img, (int(lines[i][0]), int(lines[i][1])), (int(lines[i+1][0]), int(\n",
    "                lines[i+1][1])), (50 + int((1 - hm_ls[item[0]]) * 155) + i, 50 + int((1 - hm_ls[item[0]]) * 155) + i, 255 - int(hm_ls[0] * 50)), line_size)\n",
    "\n",
    "        for i in range(len(lines) - 1, len(lines) - int(len(lines) * hm_ls[item[1]]), -1):\n",
    "            img = cv2.line(img, (int(lines[i][0]), int(lines[i][1])), (int(\n",
    "                lines[i-1][0]), int(lines[i-1][1])), (50 + int((1 - hm_ls[item[1]]) * 155) + i, 50 + int((1 - hm_ls[item[1]]) * 155) + i, 255 - int(hm_ls[1] * 50)), line_size)\n",
    "\n",
    "    return img\n"
   ]
  },
  {
   "cell_type": "code",
   "execution_count": null,
   "metadata": {},
   "outputs": [],
   "source": [
    "\n",
    "cap = cv2.VideoCapture('sample.mp4')    # capture\n",
    "\n",
    "# # init output\n",
    "# out = cv2.VideoWriter('output1.mp4', cv2.VideoWriter_fourcc(\n",
    "#     *'mp4v'), 24, (int(cap.get(cv2.CAP_PROP_FRAME_WIDTH)), int(cap.get(cv2.CAP_PROP_FRAME_HEIGHT))))\n",
    "\n",
    "\n",
    "with mp_pose.Pose(min_detection_confidence=0.5, min_tracking_confidence=0.5) as pose:\n",
    "    while cap.isOpened():\n",
    "        ret, frame = cap.read()\n",
    "\n",
    "        if ret:\n",
    "            # Mediapipe required RGB format\n",
    "            img = cv2.cvtColor(frame, cv2.COLOR_BGR2RGB)\n",
    "            img.flags.writeable = False\n",
    "\n",
    "            results = pose.process(img)  # get prediction\n",
    "\n",
    "            img.flags.writeable = True\n",
    "            # OpenCV uses BGR format\n",
    "            img = cv2.cvtColor(img, cv2.COLOR_RGB2BGR)\n",
    "\n",
    "            # try operations only if landmarks were found\n",
    "            # try:\n",
    "            lm = results.pose_landmarks.landmark    # landmarks\n",
    "            # starttime = time.time()\n",
    "            img = draw_hm_skelton(img, lm, hm_ls, prev_coord_ls, frame.shape[0], frame.shape[1], 40)\n",
    "            # print(time.time() - starttime)\n",
    "            # except:\n",
    "                # pass\n",
    "\n",
    "            # feed  \n",
    "            cv2.imshow('feed', img)\n",
    "            # out.write(img)\n",
    "\n",
    "            # break feed\n",
    "            if cv2.waitKey(10) & 0xFF == ord('q'):\n",
    "                break\n",
    "        else:\n",
    "            break\n",
    "\n",
    "    # release feed\n",
    "    cap.release()\n",
    "    # out.release()\n",
    "    cv2.destroyAllWindows()\n"
   ]
  },
  {
   "cell_type": "code",
   "execution_count": null,
   "metadata": {},
   "outputs": [],
   "source": [
    "# 0.001-2-3"
   ]
  },
  {
   "cell_type": "code",
   "execution_count": null,
   "metadata": {},
   "outputs": [],
   "source": []
  }
 ],
 "metadata": {
  "kernelspec": {
   "display_name": "Python 3.10.6 64-bit",
   "language": "python",
   "name": "python3"
  },
  "language_info": {
   "codemirror_mode": {
    "name": "ipython",
    "version": 3
   },
   "file_extension": ".py",
   "mimetype": "text/x-python",
   "name": "python",
   "nbconvert_exporter": "python",
   "pygments_lexer": "ipython3",
   "version": "3.10.6"
  },
  "orig_nbformat": 4,
  "vscode": {
   "interpreter": {
    "hash": "916dbcbb3f70747c44a77c7bcd40155683ae19c65e1c03b4aa3499c5328201f1"
   }
  }
 },
 "nbformat": 4,
 "nbformat_minor": 2
}
